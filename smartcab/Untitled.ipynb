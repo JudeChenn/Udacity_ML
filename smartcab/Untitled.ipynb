{
 "cells": [
  {
   "cell_type": "code",
   "execution_count": 99,
   "metadata": {},
   "outputs": [
    {
     "name": "stdout",
     "output_type": "stream",
     "text": [
      "{('left', 'green', 'right', None, 'left'): {'forward': 0.0, 'right': 1.5, None: 1.5, 'left': 1.5}}\n",
      "[('right', 1.5), (None, 1.5), ('left', 1.5), ('forward', 0.0)]\n",
      "right\n",
      "{('left', 'green', 'right', None, 'left'): {'forward': 0.0, 'right': 99, None: 1.5, 'left': 1.5}}\n"
     ]
    }
   ],
   "source": [
    "import random\n",
    "\n",
    "Q = dict()\n",
    "state = ('left', 'green', 'right', None, 'left')\n",
    "valid_actions = [None, 'forward', 'left', 'right']\n",
    "    \n",
    "Q[state] = dict((key, 0.0) for key in valid_actions)\n",
    "Q[state]['left'] = 1.5\n",
    "Q[state]['right'] = 1.5\n",
    "Q[state][None] = 1.5\n",
    "\n",
    "print(Q)\n",
    "\n",
    "sortQ = sorted(Q[state].items(), key=lambda action: (action[1], random.random()), reverse=True)\n",
    "\n",
    "print(sortQ)\n",
    "\n",
    "action = sortQ[0][0]\n",
    "\n",
    "print(action)\n",
    "\n",
    "reward = 99\n",
    "\n",
    "Q[state][action] = reward\n",
    "\n",
    "print(Q)\n"
   ]
  },
  {
   "cell_type": "code",
   "execution_count": 66,
   "metadata": {},
   "outputs": [
    {
     "name": "stdout",
     "output_type": "stream",
     "text": [
      "{'forward': 0.0, 'right': 0.0, None: 0.0, 'left': 0.0}\n"
     ]
    }
   ],
   "source": [
    "P = dict((key, 0.0) for key in valid_actions)\n",
    "print(P)"
   ]
  },
  {
   "cell_type": "code",
   "execution_count": null,
   "metadata": {
    "collapsed": true
   },
   "outputs": [],
   "source": []
  }
 ],
 "metadata": {
  "kernelspec": {
   "display_name": "Python 2",
   "language": "python",
   "name": "python2"
  },
  "language_info": {
   "codemirror_mode": {
    "name": "ipython",
    "version": 2
   },
   "file_extension": ".py",
   "mimetype": "text/x-python",
   "name": "python",
   "nbconvert_exporter": "python",
   "pygments_lexer": "ipython2",
   "version": "2.7.13"
  }
 },
 "nbformat": 4,
 "nbformat_minor": 2
}
