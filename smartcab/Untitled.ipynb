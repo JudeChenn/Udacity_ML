{
 "cells": [
  {
   "cell_type": "code",
   "execution_count": 14,
   "metadata": {},
   "outputs": [
    {
     "name": "stdout",
     "output_type": "stream",
     "text": [
      "{('left', 'green', 'right', None, 'left'): {'forward': 0.13842780015098777, 'right': 0.4545049882416048, None: 0.8760384128713242, 'left': 0.3221808583525583}}\n",
      "{('left', 'green', 'right', None, 'left'): {'forward': 0.13842780015098777, 'right': 0.4545049882416048, None: 99, 'left': 0.3221808583525583}}\n"
     ]
    }
   ],
   "source": [
    "import random\n",
    "\n",
    "Q = dict()\n",
    "state = ('left', 'green', 'right', None, 'left')\n",
    "valid_actions = [None, 'forward', 'left', 'right']\n",
    "\n",
    "action = dict()\n",
    "for i in valid_actions:\n",
    "    action[i] = 0.0 + random.random()\n",
    "    \n",
    "Q[state] = action\n",
    "\n",
    "print(Q)\n",
    "\n",
    "sortQ = sorted(Q[state], key=Q[state].get, reverse=True)\n",
    "\n",
    "action = sortQ[0]\n",
    "reward = 99\n",
    "\n",
    "Q[state][action] = reward\n",
    "\n",
    "print(Q)\n"
   ]
  },
  {
   "cell_type": "code",
   "execution_count": null,
   "metadata": {
    "collapsed": true
   },
   "outputs": [],
   "source": [
    "{ 'state-1': { \n",
    "    'action-1' : Qvalue-1,\n",
    "    'action-2' : Qvalue-2,\n",
    "     ...\n",
    "   },\n",
    "  'state-2': {\n",
    "    'action-1' : Qvalue-1,\n",
    "     ...\n",
    "   },\n",
    "   ...\n",
    "}"
   ]
  }
 ],
 "metadata": {
  "kernelspec": {
   "display_name": "Python 2",
   "language": "python",
   "name": "python2"
  },
  "language_info": {
   "codemirror_mode": {
    "name": "ipython",
    "version": 2
   },
   "file_extension": ".py",
   "mimetype": "text/x-python",
   "name": "python",
   "nbconvert_exporter": "python",
   "pygments_lexer": "ipython2",
   "version": "2.7.13"
  }
 },
 "nbformat": 4,
 "nbformat_minor": 2
}
