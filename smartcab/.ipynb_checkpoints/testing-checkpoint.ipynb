{
 "cells": [
  {
   "cell_type": "code",
   "execution_count": 99,
   "metadata": {},
   "outputs": [
    {
     "name": "stdout",
     "output_type": "stream",
     "text": [
      "{('left', 'green', 'right', None, 'left'): {'forward': 0.0, 'right': 1.5, None: 1.5, 'left': 1.5}}\n",
      "[('right', 1.5), (None, 1.5), ('left', 1.5), ('forward', 0.0)]\n",
      "right\n",
      "{('left', 'green', 'right', None, 'left'): {'forward': 0.0, 'right': 99, None: 1.5, 'left': 1.5}}\n"
     ]
    }
   ],
   "source": [
    "import random\n",
    "\n",
    "Q = dict()\n",
    "state = ('left', 'green', 'right', None, 'left')\n",
    "valid_actions = [None, 'forward', 'left', 'right']\n",
    "    \n",
    "Q[state] = dict((key, 0.0) for key in valid_actions)\n",
    "Q[state]['left'] = 1.5\n",
    "Q[state]['right'] = 1.5\n",
    "Q[state][None] = 1.5\n",
    "\n",
    "print(Q)\n",
    "\n",
    "sortQ = sorted(Q[state].items(), key=lambda action: (action[1], random.random()), reverse=True)\n",
    "\n",
    "print(sortQ)\n",
    "\n",
    "action = sortQ[0][0]\n",
    "\n",
    "print(action)\n",
    "\n",
    "reward = 99\n",
    "\n",
    "Q[state][action] = reward\n",
    "\n",
    "print(Q)\n"
   ]
  },
  {
   "cell_type": "code",
   "execution_count": 66,
   "metadata": {},
   "outputs": [
    {
     "name": "stdout",
     "output_type": "stream",
     "text": [
      "{'forward': 0.0, 'right': 0.0, None: 0.0, 'left': 0.0}\n"
     ]
    }
   ],
   "source": [
    "P = dict((key, 0.0) for key in valid_actions)\n",
    "print(P)"
   ]
  },
  {
   "cell_type": "code",
   "execution_count": 5,
   "metadata": {
    "scrolled": false
   },
   "outputs": [
    {
     "name": "stdout",
     "output_type": "stream",
     "text": [
      " Can possibly visit all states in 400 steps: 0.0\n"
     ]
    }
   ],
   "source": [
    "from sets import Set\n",
    "from random import choice\n",
    "def visit_state(iter, k, n=24):\n",
    "    r = range(n)\n",
    "    total = 0\n",
    "    # test 2000 times\n",
    "    for i in range(iter):\n",
    "        s = Set()\n",
    "        # Whether to visit all 384 states in 400 trials\n",
    "        for j in range(k):\n",
    "            s.add(choice(r))\n",
    "            # If visit all states then return 1 else 0\n",
    "            if len(s) == n:\n",
    "                total +=1\n",
    "                break\n",
    "    return float(total)/iter\n",
    "steps = 400\n",
    "print \"Can possibly visit all states in {st} steps: {ch}\".format(st = steps, ch = visit_state(2000, steps, 384))"
   ]
  },
  {
   "cell_type": "code",
   "execution_count": null,
   "metadata": {
    "collapsed": true
   },
   "outputs": [],
   "source": []
  }
 ],
 "metadata": {
  "kernelspec": {
   "display_name": "Python 2",
   "language": "python",
   "name": "python2"
  },
  "language_info": {
   "codemirror_mode": {
    "name": "ipython",
    "version": 2
   },
   "file_extension": ".py",
   "mimetype": "text/x-python",
   "name": "python",
   "nbconvert_exporter": "python",
   "pygments_lexer": "ipython2",
   "version": "2.7.13"
  }
 },
 "nbformat": 4,
 "nbformat_minor": 2
}
